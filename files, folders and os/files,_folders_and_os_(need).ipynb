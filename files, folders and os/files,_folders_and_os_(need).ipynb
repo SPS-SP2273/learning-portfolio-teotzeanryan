{
 "cells": [
  {
   "cell_type": "markdown",
   "id": "123456",
   "metadata": {},
   "source": [
    "<div style=\"text-align:left;font-size:2em\"><span style=\"font-weight:bolder;font-size:1.25em\">SP2273 | Learning Portfolio</span><br><br><span style=\"font-weight:bold;color:darkred\">Files, Folders and OS (Need)</span></div>"
   ]
  },
  {
   "cell_type": "markdown",
   "id": "5a6d7604",
   "metadata": {},
   "source": [
    "## 1 Important concepts"
   ]
  },
  {
   "cell_type": "markdown",
   "id": "5344146c",
   "metadata": {},
   "source": [
    "### 1.1 Path"
   ]
  },
  {
   "cell_type": "code",
   "execution_count": 1,
   "id": "de841f14",
   "metadata": {},
   "outputs": [
    {
     "ename": "SyntaxError",
     "evalue": "unexpected character after line continuation character (3731012511.py, line 1)",
     "output_type": "error",
     "traceback": [
      "\u001b[1;36m  Cell \u001b[1;32mIn[1], line 1\u001b[1;36m\u001b[0m\n\u001b[1;33m    C:\\\\Users\\Chammika\\Desktop\\data-01.txt\u001b[0m\n\u001b[1;37m       ^\u001b[0m\n\u001b[1;31mSyntaxError\u001b[0m\u001b[1;31m:\u001b[0m unexpected character after line continuation character\n"
     ]
    }
   ],
   "source": [
    "C:\\\\Users\\Chammika\\Desktop\\data-01.txt\n"
   ]
  },
  {
   "cell_type": "markdown",
   "id": "c15e6a20",
   "metadata": {},
   "source": [
    "### 1.2 More about relative paths"
   ]
  },
  {
   "cell_type": "markdown",
   "id": "ed0da836",
   "metadata": {},
   "source": [
    ".\\data-files\\data-01.txt means the file data-01.txt in the folder data-files in the current folder\n",
    "\n",
    "..\\data-files\\data-01.txt means the file data-01.txt in the folder data-files located in the folder above."
   ]
  },
  {
   "cell_type": "markdown",
   "id": "c50548d8",
   "metadata": {},
   "source": [
    "### 1.3 Path separator"
   ]
  },
  {
   "cell_type": "markdown",
   "id": "6eb0c40d",
   "metadata": {},
   "source": [
    "C:\\\\Users\\chammika\\Desktop\\data-01.txt\n",
    "vs \n",
    "/Users/chammika/Desktop/data-01.txt"
   ]
  },
  {
   "cell_type": "markdown",
   "id": "40319e0f",
   "metadata": {},
   "source": [
    "### Text files vs Binary files"
   ]
  },
  {
   "cell_type": "markdown",
   "id": "33f21161",
   "metadata": {},
   "source": [
    ".txt .md or .csv\n",
    "\n",
    "\n"
   ]
  },
  {
   "cell_type": "markdown",
   "id": "b2e75ba7",
   "metadata": {},
   "source": [
    "### Extentions"
   ]
  },
  {
   "cell_type": "code",
   "execution_count": null,
   "id": "fad5a3d6",
   "metadata": {},
   "outputs": [],
   "source": [
    "\n",
    "# Your code here\n"
   ]
  },
  {
   "cell_type": "markdown",
   "id": "0f0c19e2",
   "metadata": {},
   "source": [
    "### 1.4 Opening and closing files"
   ]
  },
  {
   "cell_type": "code",
   "execution_count": 5,
   "id": "23b6aa12",
   "metadata": {},
   "outputs": [],
   "source": [
    "with open('spectrum-01.txt', 'r') as file:\n",
    "    file_content = file.read()\n",
    "\n",
    "text = 'Far out in the uncharted backwaters of the unfashionable end of the western spiral arm of the Galaxy lies a small unregarded yellow sun.\\nOrbiting this at a distance of roughly ninety-two million miles is an utterly insignificant little blue green planet whose ape-descended life forms are so amazingly primitive that they still think digital watches are a pretty neat idea.'\n",
    "\n",
    "with open('my-text-once.txt', 'w') as file:\n",
    "    file.write(text)\n",
    "\n",
    "with open('my-text-lines.txt', 'w') as file:\n",
    "    for line in text.splitlines():\n",
    "        file.writelines(line)    "
   ]
  },
  {
   "cell_type": "markdown",
   "id": "a1d9b265",
   "metadata": {},
   "source": [
    "## 2 Playing with the OS"
   ]
  },
  {
   "cell_type": "markdown",
   "id": "b80e817d",
   "metadata": {},
   "source": [
    "### 2.1 Some packages"
   ]
  },
  {
   "cell_type": "code",
   "execution_count": 6,
   "id": "7220180f",
   "metadata": {},
   "outputs": [],
   "source": [
    "import os\n",
    "import glob\n",
    "import shutil"
   ]
  },
  {
   "cell_type": "markdown",
   "id": "08e9b9f1",
   "metadata": {},
   "source": [
    "### 2.2 OS safe paths"
   ]
  },
  {
   "cell_type": "code",
   "execution_count": 7,
   "id": "a60015b4",
   "metadata": {},
   "outputs": [
    {
     "name": "stdout",
     "output_type": "stream",
     "text": [
      ".\\all-data\\sg-data\\data-01.txt\n"
     ]
    }
   ],
   "source": [
    "path = os.path.join('.', 'all-data', 'sg-data', 'data-01.txt')\n",
    "print(path)\n"
   ]
  },
  {
   "cell_type": "markdown",
   "id": "bd940e7b",
   "metadata": {},
   "source": [
    "### 2.3 Creating folders"
   ]
  },
  {
   "cell_type": "code",
   "execution_count": 8,
   "id": "e8eefb4f",
   "metadata": {},
   "outputs": [
    {
     "name": "stdout",
     "output_type": "stream",
     "text": [
      "Creating people\\Jonh\n",
      "Creating people\\Paul\n",
      "Creating people\\Ringo\n"
     ]
    }
   ],
   "source": [
    "os.mkdir('people')\n",
    "\n",
    "for person in ['Jonh', 'Paul', 'Ringo']:\n",
    "    path = os.path.join('people', person)\n",
    "    print(f'Creating {path}')\n",
    "    os.mkdir(path)\n"
   ]
  },
  {
   "cell_type": "markdown",
   "id": "abeab702",
   "metadata": {},
   "source": [
    "### 2.4 Checking for existence"
   ]
  },
  {
   "cell_type": "code",
   "execution_count": 9,
   "id": "21ae2c72",
   "metadata": {},
   "outputs": [
    {
     "name": "stdout",
     "output_type": "stream",
     "text": [
      "people\\Jonh already exists; skipping creation.\n",
      "people\\Paul already exists; skipping creation.\n",
      "people\\Ringo already exists; skipping creation.\n"
     ]
    }
   ],
   "source": [
    "for person in ['Jonh', 'Paul', 'Ringo']:\n",
    "    path = os.path.join('people', person)\n",
    "    try:\n",
    "        os.mkdir(path)\n",
    "        print(f'Creating {path}')\n",
    "    except FileExistsError:\n",
    "        print(f'{path} already exists; skipping creation.')"
   ]
  },
  {
   "cell_type": "code",
   "execution_count": 10,
   "id": "033d5e1c",
   "metadata": {},
   "outputs": [
    {
     "name": "stdout",
     "output_type": "stream",
     "text": [
      "people\\Jonh already exists; skipping creation.\n",
      "people\\Paul already exists; skipping creation.\n",
      "people\\Ringo already exists; skipping creation.\n"
     ]
    }
   ],
   "source": [
    "for person in ['Jonh', 'Paul', 'Ringo']:\n",
    "    path = os.path.join('people', person)\n",
    "    if os.path.exists(path):\n",
    "        print(f'{path} already exists; skipping creation.')\n",
    "    else:\n",
    "        os.mkdir(path)\n",
    "        print(f'Creating {path}')"
   ]
  },
  {
   "cell_type": "markdown",
   "id": "955e5120",
   "metadata": {},
   "source": [
    "### 2.5 Copying files"
   ]
  },
  {
   "cell_type": "code",
   "execution_count": 11,
   "id": "cf290e1d",
   "metadata": {},
   "outputs": [
    {
     "name": "stdout",
     "output_type": "stream",
     "text": [
      "Copied file to people\\Jonh\n",
      "Copied file to people\\Paul\n",
      "Copied file to people\\Ringo\n"
     ]
    }
   ],
   "source": [
    "for person in ['Jonh', 'Paul', 'Ringo']:\n",
    "    path_to_destination = os.path.join('people', person)\n",
    "    shutil.copy('sp2273_logo.png', path_to_destination)\n",
    "    print(f'Copied file to {path_to_destination}')\n"
   ]
  },
  {
   "cell_type": "code",
   "execution_count": 12,
   "id": "f2886f40",
   "metadata": {},
   "outputs": [
    {
     "name": "stdout",
     "output_type": "stream",
     "text": [
      "Moved logo to people\\Jonh\\imgs\\sp2273_logo.png\n",
      "Moved logo to people\\Paul\\imgs\\sp2273_logo.png\n",
      "Moved logo to people\\Ringo\\imgs\\sp2273_logo.png\n"
     ]
    }
   ],
   "source": [
    "for person in ['Jonh', 'Paul', 'Ringo']:\n",
    "    # Create folder 'imgs'\n",
    "    path_to_imgs = os.path.join('people', person, 'imgs')\n",
    "    if not os.path.exists(path_to_imgs):\n",
    "        os.mkdir(path_to_imgs)\n",
    "\n",
    "    # Move logo file\n",
    "    current_path_of_logo = os.path.join('people', person, 'sp2273_logo.png')\n",
    "    new_path_of_logo = os.path.join('people', person, 'imgs', 'sp2273_logo.png')\n",
    "\n",
    "    shutil.move(current_path_of_logo, new_path_of_logo)\n",
    "    print(f'Moved logo to {new_path_of_logo}')"
   ]
  },
  {
   "cell_type": "markdown",
   "id": "3e0fe51a",
   "metadata": {},
   "source": [
    "### 2.6 Listing files"
   ]
  },
  {
   "cell_type": "code",
   "execution_count": 13,
   "id": "bd35b35e",
   "metadata": {},
   "outputs": [
    {
     "data": {
      "text/plain": [
       "['files,_folders_and_os_(need).ipynb',\n",
       " 'my-text-lines.txt',\n",
       " 'my-text-once.txt',\n",
       " 'people',\n",
       " 'sp2273_logo.png',\n",
       " 'spectrum-01.txt']"
      ]
     },
     "execution_count": 13,
     "metadata": {},
     "output_type": "execute_result"
    }
   ],
   "source": [
    "glob.glob('*')\n"
   ]
  },
  {
   "cell_type": "code",
   "execution_count": 17,
   "id": "ace38cb2",
   "metadata": {},
   "outputs": [
    {
     "data": {
      "text/plain": [
       "['people\\\\Jonh\\\\imgs\\\\sp2273_logo.png',\n",
       " 'people\\\\Paul\\\\imgs\\\\sp2273_logo.png',\n",
       " 'people\\\\Ringo\\\\imgs\\\\sp2273_logo.png']"
      ]
     },
     "execution_count": 17,
     "metadata": {},
     "output_type": "execute_result"
    }
   ],
   "source": [
    "glob.glob('peo*')\n",
    "glob.glob('peo*/*')\n",
    "glob.glob('people/**', recursive=True)\n",
    "glob.glob('people/**/*.png', recursive=True)"
   ]
  },
  {
   "cell_type": "markdown",
   "id": "7866a055",
   "metadata": {},
   "source": [
    "### 2.7 Moving about"
   ]
  },
  {
   "cell_type": "code",
   "execution_count": 18,
   "id": "71ebc6db",
   "metadata": {},
   "outputs": [
    {
     "data": {
      "text/plain": [
       "'C:\\\\Users\\\\ryant\\\\Documents\\\\Y1S2\\\\SP2273\\\\learning-portfolio-teotzeanryan\\\\files, folders and os'"
      ]
     },
     "execution_count": 18,
     "metadata": {},
     "output_type": "execute_result"
    }
   ],
   "source": [
    "os.getcwd()"
   ]
  },
  {
   "cell_type": "code",
   "execution_count": 19,
   "id": "611fda94",
   "metadata": {},
   "outputs": [],
   "source": [
    "os.chdir('people/Ringo')"
   ]
  },
  {
   "cell_type": "markdown",
   "id": "72780f36",
   "metadata": {},
   "source": [
    "### 2.8 Extracting Info"
   ]
  },
  {
   "cell_type": "code",
   "execution_count": 21,
   "id": "23705a65",
   "metadata": {},
   "outputs": [
    {
     "name": "stdout",
     "output_type": "stream",
     "text": [
      "people/Ringo/imgs/sp2273_logo.png png\n"
     ]
    }
   ],
   "source": [
    "path = 'people/Ringo/imgs/sp2273_logo.png'\n",
    "filename = path.split(os.path.sep)[-1]\n",
    "extension = filename.split('.')[-1]\n",
    "print(filename, extension)"
   ]
  },
  {
   "cell_type": "code",
   "execution_count": 28,
   "id": "234267dc",
   "metadata": {},
   "outputs": [
    {
     "data": {
      "text/plain": [
       "'people/Ringo/imgs'"
      ]
     },
     "execution_count": 28,
     "metadata": {},
     "output_type": "execute_result"
    }
   ],
   "source": [
    "path = 'people/Ringo/imgs/sp2273_logo.png'\n",
    "os.path.split(path)\n",
    "os.path.splitext(path)   # Split extension\n",
    "os.path.dirname(path)    # Show the directory"
   ]
  },
  {
   "cell_type": "markdown",
   "id": "949977c1",
   "metadata": {},
   "source": [
    "### 2.9 Deleting stuff"
   ]
  },
  {
   "cell_type": "code",
   "execution_count": 30,
   "id": "b635f06a",
   "metadata": {},
   "outputs": [
    {
     "ename": "FileNotFoundError",
     "evalue": "[WinError 3] The system cannot find the path specified: 'people/Ringo/imgs/sp2273_logo.png'",
     "output_type": "error",
     "traceback": [
      "\u001b[1;31m---------------------------------------------------------------------------\u001b[0m",
      "\u001b[1;31mFileNotFoundError\u001b[0m                         Traceback (most recent call last)",
      "Cell \u001b[1;32mIn[30], line 1\u001b[0m\n\u001b[1;32m----> 1\u001b[0m \u001b[43mos\u001b[49m\u001b[38;5;241;43m.\u001b[39;49m\u001b[43mremove\u001b[49m\u001b[43m(\u001b[49m\u001b[38;5;124;43m'\u001b[39;49m\u001b[38;5;124;43mpeople/Ringo/imgs/sp2273_logo.png\u001b[39;49m\u001b[38;5;124;43m'\u001b[39;49m\u001b[43m)\u001b[49m\n\u001b[0;32m      3\u001b[0m os\u001b[38;5;241m.\u001b[39mrmdir(\u001b[38;5;124m'\u001b[39m\u001b[38;5;124mpeople/Ringo\u001b[39m\u001b[38;5;124m'\u001b[39m)\n\u001b[0;32m      5\u001b[0m shutil\u001b[38;5;241m.\u001b[39mrmtree(\u001b[38;5;124m'\u001b[39m\u001b[38;5;124mpeople/Ringo\u001b[39m\u001b[38;5;124m'\u001b[39m)\n",
      "\u001b[1;31mFileNotFoundError\u001b[0m: [WinError 3] The system cannot find the path specified: 'people/Ringo/imgs/sp2273_logo.png'"
     ]
    }
   ],
   "source": [
    "os.remove('people/Ringo/imgs/sp2273_logo.png')\n",
    "\n",
    "os.rmdir('people/Ringo')\n",
    "\n",
    "shutil.rmtree('people/Ringo')"
   ]
  },
  {
   "cell_type": "markdown",
   "id": "0baa0388",
   "metadata": {},
   "source": [
    "## Exercise 7 :  The OS is my oyster"
   ]
  },
  {
   "cell_type": "code",
   "execution_count": 82,
   "id": "ccf0951f",
   "metadata": {},
   "outputs": [
    {
     "name": "stdout",
     "output_type": "stream",
     "text": [
      "Creating python_today\\new_directory_01\n",
      "Creating python_today\\new_directory_02\n",
      "Creating python_today\\new_directory_03\n",
      "Creating python_today\\new_directory_04\n",
      "Creating python_today\\new_directory_05\n",
      "Creating python_today\\new_directory_06\n",
      "Creating python_today\\new_directory_07\n",
      "Creating python_today\\new_directory_08\n",
      "Creating python_today\\new_directory_09\n",
      "Creating python_today\\new_directory_10\n",
      "Creating python_today\\new_directory_11\n",
      "Creating python_today\\new_directory_12\n",
      "Creating python_today\\new_directory_13\n",
      "Creating python_today\\new_directory_14\n",
      "Creating python_today\\new_directory_15\n",
      "Creating python_today\\new_directory_16\n",
      "Creating python_today\\new_directory_17\n",
      "Creating python_today\\new_directory_18\n",
      "Creating python_today\\new_directory_19\n",
      "Creating python_today\\new_directory_20\n",
      "Creating python_today\\new_directory_21\n",
      "Creating python_today\\new_directory_22\n",
      "Creating python_today\\new_directory_23\n",
      "Creating python_today\\new_directory_24\n",
      "Creating python_today\\new_directory_25\n",
      "Creating python_today\\new_directory_26\n",
      "Creating python_today\\new_directory_27\n",
      "Creating python_today\\new_directory_28\n",
      "Creating python_today\\new_directory_29\n",
      "Creating python_today\\new_directory_30\n",
      "Creating python_today\\new_directory_31\n",
      "Creating python_today\\new_directory_32\n",
      "Creating python_today\\new_directory_33\n",
      "Creating python_today\\new_directory_34\n",
      "Creating python_today\\new_directory_35\n",
      "Creating python_today\\new_directory_36\n",
      "Creating python_today\\new_directory_37\n",
      "Creating python_today\\new_directory_38\n",
      "Creating python_today\\new_directory_39\n",
      "Creating python_today\\new_directory_40\n",
      "Creating python_today\\new_directory_41\n",
      "Creating python_today\\new_directory_42\n",
      "Creating python_today\\new_directory_43\n",
      "Creating python_today\\new_directory_44\n",
      "Creating python_today\\new_directory_45\n",
      "Creating python_today\\new_directory_46\n",
      "Creating python_today\\new_directory_47\n",
      "Creating python_today\\new_directory_48\n",
      "Creating python_today\\new_directory_49\n",
      "Creating python_today\\new_directory_50\n"
     ]
    }
   ],
   "source": [
    "os.getcwd()\n",
    "\n",
    "# os.mkdir('python_today')\n",
    "# os.chdir('python_today')\n",
    "os.getcwd()\n",
    "\n",
    "\n",
    "for i in range(1, 51):\n",
    "    path = os.path.join('python_today', f'new_directory_{i:02.0f}')\n",
    "    print(f'Creating {path}')\n",
    "    os.mkdir(path)"
   ]
  },
  {
   "cell_type": "code",
   "execution_count": 83,
   "id": "dfce9d4d",
   "metadata": {},
   "outputs": [
    {
     "data": {
      "text/plain": [
       "'C:\\\\Users\\\\ryant\\\\Documents\\\\Y1S2\\\\SP2273\\\\learning-portfolio-teotzeanryan\\\\files, folders and os\\\\people\\\\Ringo\\\\python_today'"
      ]
     },
     "execution_count": 83,
     "metadata": {},
     "output_type": "execute_result"
    }
   ],
   "source": [
    "os.getcwd()"
   ]
  },
  {
   "cell_type": "code",
   "execution_count": 68,
   "id": "01d17815",
   "metadata": {},
   "outputs": [],
   "source": [
    "\n",
    "for i in range(1, 51):\n",
    "    if i % 2 != 0:\n",
    "        os.rmdir(f'new_directory_{i:02.0f}')\n",
    "        "
   ]
  },
  {
   "cell_type": "code",
   "execution_count": 69,
   "id": "259029a4",
   "metadata": {},
   "outputs": [
    {
     "data": {
      "text/plain": [
       "['new_directory_02',\n",
       " 'new_directory_04',\n",
       " 'new_directory_06',\n",
       " 'new_directory_08',\n",
       " 'new_directory_10',\n",
       " 'new_directory_12',\n",
       " 'new_directory_14',\n",
       " 'new_directory_16',\n",
       " 'new_directory_18',\n",
       " 'new_directory_20',\n",
       " 'new_directory_22',\n",
       " 'new_directory_24',\n",
       " 'new_directory_26',\n",
       " 'new_directory_28',\n",
       " 'new_directory_30',\n",
       " 'new_directory_32',\n",
       " 'new_directory_34',\n",
       " 'new_directory_36',\n",
       " 'new_directory_38',\n",
       " 'new_directory_40',\n",
       " 'new_directory_42',\n",
       " 'new_directory_44',\n",
       " 'new_directory_46',\n",
       " 'new_directory_48',\n",
       " 'new_directory_50']"
      ]
     },
     "execution_count": 69,
     "metadata": {},
     "output_type": "execute_result"
    }
   ],
   "source": [
    "os.listdir()"
   ]
  },
  {
   "cell_type": "code",
   "execution_count": 84,
   "id": "cb366f53",
   "metadata": {},
   "outputs": [
    {
     "name": "stdout",
     "output_type": "stream",
     "text": [
      "new_directory_10\n",
      "new_directory_20\n",
      "new_directory_30\n",
      "new_directory_40\n",
      "new_directory_50\n"
     ]
    }
   ],
   "source": [
    "for i in range(0, 51, 5):\n",
    "    path = os.path.join( f'new_directory_{i:02.0f}')\n",
    "    if os.path.exists(path):\n",
    "        print(f'{path}')\n",
    "        os.rename(path, f'haha_{i:02.0f}')\n",
    "        "
   ]
  },
  {
   "cell_type": "code",
   "execution_count": 85,
   "id": "fec30126",
   "metadata": {},
   "outputs": [
    {
     "data": {
      "text/plain": [
       "['haha_10',\n",
       " 'haha_20',\n",
       " 'haha_30',\n",
       " 'haha_40',\n",
       " 'haha_50',\n",
       " 'new_directory_02',\n",
       " 'new_directory_04',\n",
       " 'new_directory_06',\n",
       " 'new_directory_08',\n",
       " 'new_directory_12',\n",
       " 'new_directory_14',\n",
       " 'new_directory_16',\n",
       " 'new_directory_18',\n",
       " 'new_directory_22',\n",
       " 'new_directory_24',\n",
       " 'new_directory_26',\n",
       " 'new_directory_28',\n",
       " 'new_directory_32',\n",
       " 'new_directory_34',\n",
       " 'new_directory_36',\n",
       " 'new_directory_38',\n",
       " 'new_directory_42',\n",
       " 'new_directory_44',\n",
       " 'new_directory_46',\n",
       " 'new_directory_48']"
      ]
     },
     "execution_count": 85,
     "metadata": {},
     "output_type": "execute_result"
    }
   ],
   "source": [
    "os.listdir()"
   ]
  },
  {
   "cell_type": "code",
   "execution_count": 86,
   "id": "b702b688",
   "metadata": {},
   "outputs": [
    {
     "data": {
      "text/plain": [
       "['haha_10', 'haha_20', 'haha_30', 'haha_40', 'haha_50']"
      ]
     },
     "execution_count": 86,
     "metadata": {},
     "output_type": "execute_result"
    }
   ],
   "source": [
    "glob.glob('haha*')"
   ]
  },
  {
   "cell_type": "code",
   "execution_count": 117,
   "id": "59ed32e4",
   "metadata": {},
   "outputs": [],
   "source": [
    "path = 'people/Ringo/imgs/sp2273_logo.png'\n",
    "filename = path.split(os.path.sep)[-1]"
   ]
  },
  {
   "cell_type": "code",
   "execution_count": 141,
   "id": "06230bd0",
   "metadata": {},
   "outputs": [],
   "source": [
    "os.chdir(r\"C:\\Users\\ryant\\Documents\\Y1S2\\SP2273\\learning-portfolio-teotzeanryan\\files, folders and os\\people\\Ringo\\python_today\")\n"
   ]
  },
  {
   "cell_type": "code",
   "execution_count": 148,
   "id": "07ebf66b",
   "metadata": {
    "scrolled": true
   },
   "outputs": [],
   "source": [
    "for i in glob.glob('haha*'):\n",
    "    path_to_dest = os.path.join(i)\n",
    "    shutil.copy(\"C:\\\\Users\\\\ryant\\\\Documents\\\\Y1S2\\\\SP2273\\\\learning-portfolio-teotzeanryan\\\\files, folders and os\\\\people\\\\Ringo\\\\imgs\\\\sp2273_logo.png\", path_to_dest)"
   ]
  },
  {
   "cell_type": "markdown",
   "id": "854938ff",
   "metadata": {},
   "source": [
    "## Exercise 8 :  Tidying a collaboration"
   ]
  },
  {
   "cell_type": "code",
   "execution_count": null,
   "id": "906849e3",
   "metadata": {},
   "outputs": [],
   "source": [
    "\n",
    "\n",
    "\n",
    "# Your solution here\n",
    "\n",
    "\n"
   ]
  }
 ],
 "metadata": {
  "kernelspec": {
   "display_name": "Python 3 (ipykernel)",
   "language": "python",
   "name": "python3"
  },
  "language_info": {
   "codemirror_mode": {
    "name": "ipython",
    "version": 3
   },
   "file_extension": ".py",
   "mimetype": "text/x-python",
   "name": "python",
   "nbconvert_exporter": "python",
   "pygments_lexer": "ipython3",
   "version": "3.10.8"
  },
  "toc": {
   "base_numbering": 1,
   "nav_menu": {},
   "number_sections": true,
   "sideBar": true,
   "skip_h1_title": false,
   "title_cell": "Table of Contents",
   "title_sidebar": "Contents",
   "toc_cell": false,
   "toc_position": {},
   "toc_section_display": true,
   "toc_window_display": false
  },
  "varInspector": {
   "cols": {
    "lenName": 16,
    "lenType": 16,
    "lenVar": 40
   },
   "kernels_config": {
    "python": {
     "delete_cmd_postfix": "",
     "delete_cmd_prefix": "del ",
     "library": "var_list.py",
     "varRefreshCmd": "print(var_dic_list())"
    },
    "r": {
     "delete_cmd_postfix": ") ",
     "delete_cmd_prefix": "rm(",
     "library": "var_list.r",
     "varRefreshCmd": "cat(var_dic_list()) "
    }
   },
   "types_to_exclude": [
    "module",
    "function",
    "builtin_function_or_method",
    "instance",
    "_Feature"
   ],
   "window_display": false
  },
  "vscode": {
   "interpreter": {
    "hash": "31f2aee4e71d21fbe5cf8b01ff0e069b9275f58929596ceb00d14d90e3e16cd6"
   }
  }
 },
 "nbformat": 4,
 "nbformat_minor": 5
}
