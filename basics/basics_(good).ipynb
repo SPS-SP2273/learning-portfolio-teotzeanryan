{
 "cells": [
  {
   "cell_type": "markdown",
   "id": "123456",
   "metadata": {},
   "source": [
    "<div style=\"text-align:left;font-size:2em\"><span style=\"font-weight:bolder;font-size:1.25em\">SP2273 | Learning Portfolio</span><br><br><span style=\"font-weight:bold;color:darkred\">Basics (Good)</span></div>"
   ]
  },
  {
   "cell_type": "markdown",
   "id": "0cf3114d",
   "metadata": {},
   "source": [
    "## 1 More Python Basics"
   ]
  },
  {
   "cell_type": "markdown",
   "id": "a5920a0d",
   "metadata": {},
   "source": [
    "### 1.1 Computers read = from Right to Left!"
   ]
  },
  {
   "cell_type": "code",
   "execution_count": 5,
   "id": "d6749842",
   "metadata": {},
   "outputs": [
    {
     "name": "stdout",
     "output_type": "stream",
     "text": [
      "42\n"
     ]
    }
   ],
   "source": [
    "y = 40\n",
    "y = y + 2 \n",
    "print(y)\n",
    "\n",
    "x = y = 10"
   ]
  },
  {
   "cell_type": "code",
   "execution_count": 7,
   "id": "96474346",
   "metadata": {},
   "outputs": [
    {
     "data": {
      "text/plain": [
       "42"
      ]
     },
     "execution_count": 7,
     "metadata": {},
     "output_type": "execute_result"
    }
   ],
   "source": [
    "y = 40 \n",
    "y += 2\n",
    "y"
   ]
  },
  {
   "cell_type": "code",
   "execution_count": 10,
   "id": "40912964",
   "metadata": {},
   "outputs": [
    {
     "data": {
      "text/plain": [
       "80"
      ]
     },
     "execution_count": 10,
     "metadata": {},
     "output_type": "execute_result"
    }
   ],
   "source": [
    "y = 40 \n",
    "y -= 2\n",
    "y\n",
    "\n",
    "y = 40 \n",
    "y /= 2\n",
    "y\n",
    "\n",
    "y = 40\n",
    "y *= 2\n",
    "y"
   ]
  },
  {
   "cell_type": "markdown",
   "id": "69ba72d1",
   "metadata": {},
   "source": [
    "### 1.3 Asking questions"
   ]
  },
  {
   "cell_type": "code",
   "execution_count": 19,
   "id": "8e8c7eb2",
   "metadata": {},
   "outputs": [
    {
     "data": {
      "text/plain": [
       "True"
      ]
     },
     "execution_count": 19,
     "metadata": {},
     "output_type": "execute_result"
    }
   ],
   "source": [
    "fruits = [\"apple\", \"banana\", \"pineapple\", \"jackfruit\"]\n",
    "vegetables = [\"celery\", \"potato\", \"broccoli\", \"kale\"]\n",
    "\n",
    "\"apple\" in fruits\n",
    "\"peach\" in fruits\n",
    "\"peach\" not in fruits\n",
    "(\"apple\" in fruits) and (\"celery\" in vegetables)\n",
    "(\"apple\" in fruits) or (\"celery\" in vegetables)\n",
    "\n",
    "'apples' > 'oranges'\n",
    "\n",
    "(x > 5) and (x < 15)\n",
    "\n",
    "5 < x < 15"
   ]
  },
  {
   "cell_type": "markdown",
   "id": "5ef0e354",
   "metadata": {},
   "source": [
    "### 1.4 There is more to if"
   ]
  },
  {
   "cell_type": "code",
   "execution_count": 21,
   "id": "f8a424ac",
   "metadata": {},
   "outputs": [
    {
     "name": "stdout",
     "output_type": "stream",
     "text": [
      "Hello Hero | Batman!\n"
     ]
    }
   ],
   "source": [
    "name = 'Batman'\n",
    "\n",
    "if name == 'Batman':\n",
    "    print('Hello Hero | Batman!')\n",
    "elif name == 'Robin':\n",
    "    print('Hello sidekick | Robin!')\n",
    "else:\n",
    "    print('Hello World!')"
   ]
  },
  {
   "cell_type": "markdown",
   "id": "48f592c9",
   "metadata": {},
   "source": [
    "### 1.5 Python stores information in different formats or types."
   ]
  },
  {
   "cell_type": "code",
   "execution_count": 28,
   "id": "f13deb2e",
   "metadata": {},
   "outputs": [
    {
     "name": "stdout",
     "output_type": "stream",
     "text": [
      "1 <class 'int'>\n",
      "1.234 <class 'str'>\n",
      "1.234 <class 'float'>\n",
      "(1.234+0j) <class 'complex'>\n",
      "1.234 <class 'str'>\n",
      "1.234 <class 'float'>\n"
     ]
    }
   ],
   "source": [
    "x = int(1.234)\n",
    "print(x, type(x))\n",
    "\n",
    "x = str(1.234)\n",
    "print(x, type(x))\n",
    "\n",
    "x = float(1.234)\n",
    "print(x, type(x))\n",
    "\n",
    "x = complex(1.234)\n",
    "print(x, type(x))\n",
    "\n",
    "x= '1.234'\n",
    "print(x, type(x))\n",
    "\n",
    "x = float(x)\n",
    "print(x, type(x))"
   ]
  },
  {
   "cell_type": "markdown",
   "id": "a2fd7c19",
   "metadata": {},
   "source": [
    "### 1.6 Combining English and variables"
   ]
  },
  {
   "cell_type": "code",
   "execution_count": null,
   "id": "a65b3c91",
   "metadata": {},
   "outputs": [],
   "source": [
    "\n",
    "# Your code here\n"
   ]
  },
  {
   "cell_type": "markdown",
   "id": "44741d48",
   "metadata": {},
   "source": [
    "### 1.7 Python can be a prima-donna."
   ]
  },
  {
   "cell_type": "code",
   "execution_count": null,
   "id": "3a3f5a69",
   "metadata": {},
   "outputs": [],
   "source": [
    "\n",
    "# Your code here\n"
   ]
  },
  {
   "cell_type": "markdown",
   "id": "ca9e8763",
   "metadata": {},
   "source": [
    "## 2 Best Practices for Scientific Computing"
   ]
  },
  {
   "cell_type": "markdown",
   "id": "0d58085a",
   "metadata": {},
   "source": [
    "### 2.1 Some tips"
   ]
  },
  {
   "cell_type": "code",
   "execution_count": 42,
   "id": "9c5c753d",
   "metadata": {},
   "outputs": [
    {
     "name": "stdout",
     "output_type": "stream",
     "text": [
      "Hello Batman!\n",
      "Hello BATMAN!\n",
      "The value of 10 squared is 100!\n",
      "Bruce Wayne is Batman\n",
      "         Bruce Wayne is Batman\n",
      "    Bruce Wayne is Batman     \n",
      "Bruce Wayne is Batman         \n",
      "The cube of pi to 6 decimal places is 31.006277\n",
      "The cube of pi to 6 decimal places is 3.100628e+01\n"
     ]
    }
   ],
   "source": [
    "name = \"Batman\"\n",
    "print(f\"Hello {name}!\")\n",
    "\n",
    "name = \"Batman\"\n",
    "print(f\"Hello {name.upper()}!\")\n",
    "\n",
    "x = 10 \n",
    "print(f\"The value of {x} squared is {x**2}!\")\n",
    "\n",
    "text = 'Bruce Wayne is Batman'\n",
    "print(f'{text}')\n",
    "print(f'{text:>30}')\n",
    "print(f'{text:^30}')\n",
    "print(f'{text:<30}')\n",
    "\n",
    "import numpy as np\n",
    "print(f'The cube of pi to 6 decimal places is {np.pi**3:.6f}')\n",
    "print(f'The cube of pi to 6 decimal places is {np.pi**3:.6e}')"
   ]
  },
  {
   "cell_type": "markdown",
   "id": "f6618d34",
   "metadata": {},
   "source": [
    "### 2.2 Getting help."
   ]
  },
  {
   "cell_type": "code",
   "execution_count": 43,
   "id": "3e668c53",
   "metadata": {
    "scrolled": true
   },
   "outputs": [
    {
     "name": "stdout",
     "output_type": "stream",
     "text": [
      "Help on built-in function print in module builtins:\n",
      "\n",
      "print(...)\n",
      "    print(value, ..., sep=' ', end='\\n', file=sys.stdout, flush=False)\n",
      "    \n",
      "    Prints the values to a stream, or to sys.stdout by default.\n",
      "    Optional keyword arguments:\n",
      "    file:  a file-like object (stream); defaults to the current sys.stdout.\n",
      "    sep:   string inserted between values, default a space.\n",
      "    end:   string appended after the last value, default a newline.\n",
      "    flush: whether to forcibly flush the stream.\n",
      "\n"
     ]
    }
   ],
   "source": [
    "help(print)\n"
   ]
  },
  {
   "cell_type": "markdown",
   "id": "438a05ed",
   "metadata": {},
   "source": [
    "## Exercise 1 :  Bias for some heroes"
   ]
  },
  {
   "cell_type": "code",
   "execution_count": 5,
   "id": "06786131",
   "metadata": {},
   "outputs": [
    {
     "name": "stdout",
     "output_type": "stream",
     "text": [
      "Hello BATMAN!\n",
      "Hello BLACK WIDOW!\n",
      "Hello aqua man!\n",
      "Hello BATMAN!\n",
      "Hello BLACK WIDOW!\n",
      "Hello aqua man!\n"
     ]
    }
   ],
   "source": [
    "def hello(name):\n",
    "    if name == \"Batman\":\n",
    "        print(f\"Hello {name.upper()}!\")\n",
    "    elif name == \"Black Widow\":\n",
    "        print(f\"Hello {name.upper()}!\")\n",
    "    else:\n",
    "        print(f\"Hello {name.lower()}!\")\n",
    "        \n",
    "hello(\"Batman\")\n",
    "hello(\"Black Widow\")\n",
    "hello(\"Aqua Man\")\n",
    "\n",
    "def hello(name):\n",
    "    if name == \"Batman\" or name == \"Black Widow\":\n",
    "        print(f\"Hello {name.upper()}!\")\n",
    "    else:\n",
    "        print(f\"Hello {name.lower()}!\")\n",
    "        \n",
    "hello(\"Batman\")\n",
    "hello(\"Black Widow\")\n",
    "hello(\"Aqua Man\")\n"
   ]
  },
  {
   "cell_type": "markdown",
   "id": "ba6aaa7b",
   "metadata": {},
   "source": [
    "## Exercise 2 :  Bias for some heroes, continues"
   ]
  },
  {
   "cell_type": "code",
   "execution_count": 6,
   "id": "9172985b",
   "metadata": {
    "code_folding": []
   },
   "outputs": [
    {
     "name": "stdout",
     "output_type": "stream",
     "text": [
      "Hello BATMAN!\n",
      "Hello BLACK WIDOW!\n",
      "Hello aqua man!\n"
     ]
    }
   ],
   "source": [
    "def hello(name):\n",
    "    if name.upper() == \"BATMAN\":\n",
    "        print(f\"Hello {name.upper()}!\")\n",
    "    elif name.upper() == \"BLACK WIDOW\":\n",
    "        print(f\"Hello {name.upper()}!\")\n",
    "    else:\n",
    "        print(f\"Hello {name.lower()}!\")\n",
    "        \n",
    "hello(\"Batman\")\n",
    "hello(\"black WidOw\")\n",
    "hello(\"Aqua Man\")\n"
   ]
  },
  {
   "cell_type": "markdown",
   "id": "065179a9",
   "metadata": {},
   "source": [
    "## Exercise 3 :  Look for help to replace"
   ]
  },
  {
   "cell_type": "code",
   "execution_count": 7,
   "id": "fb6bcfdd",
   "metadata": {},
   "outputs": [
    {
     "name": "stdout",
     "output_type": "stream",
     "text": [
      "The Batman lives in Gotham city\n"
     ]
    }
   ],
   "source": [
    "joker = 'The Joker lives in Gotham city'\n",
    "batman = joker.replace('Joker', 'Batman')\n",
    "print(batman)\n"
   ]
  }
 ],
 "metadata": {
  "kernelspec": {
   "display_name": "Python 3 (ipykernel)",
   "language": "python",
   "name": "python3"
  },
  "language_info": {
   "codemirror_mode": {
    "name": "ipython",
    "version": 3
   },
   "file_extension": ".py",
   "mimetype": "text/x-python",
   "name": "python",
   "nbconvert_exporter": "python",
   "pygments_lexer": "ipython3",
   "version": "3.10.8"
  },
  "toc": {
   "base_numbering": 1,
   "nav_menu": {},
   "number_sections": true,
   "sideBar": true,
   "skip_h1_title": false,
   "title_cell": "Table of Contents",
   "title_sidebar": "Contents",
   "toc_cell": false,
   "toc_position": {},
   "toc_section_display": true,
   "toc_window_display": false
  },
  "varInspector": {
   "cols": {
    "lenName": 16,
    "lenType": 16,
    "lenVar": 40
   },
   "kernels_config": {
    "python": {
     "delete_cmd_postfix": "",
     "delete_cmd_prefix": "del ",
     "library": "var_list.py",
     "varRefreshCmd": "print(var_dic_list())"
    },
    "r": {
     "delete_cmd_postfix": ") ",
     "delete_cmd_prefix": "rm(",
     "library": "var_list.r",
     "varRefreshCmd": "cat(var_dic_list()) "
    }
   },
   "types_to_exclude": [
    "module",
    "function",
    "builtin_function_or_method",
    "instance",
    "_Feature"
   ],
   "window_display": false
  },
  "vscode": {
   "interpreter": {
    "hash": "31f2aee4e71d21fbe5cf8b01ff0e069b9275f58929596ceb00d14d90e3e16cd6"
   }
  }
 },
 "nbformat": 4,
 "nbformat_minor": 5
}
