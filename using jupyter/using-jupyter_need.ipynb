{
 "cells": [
  {
   "cell_type": "code",
   "execution_count": 3,
   "id": "7b2e84bd",
   "metadata": {},
   "outputs": [
    {
     "name": "stdout",
     "output_type": "stream",
     "text": [
      "Hello World!\n"
     ]
    }
   ],
   "source": [
    "print('Hello World!')"
   ]
  },
  {
   "cell_type": "markdown",
   "id": "59c022a6",
   "metadata": {},
   "source": [
    "The ships hung in the sky in much the same way that bricks don’t."
   ]
  },
  {
   "cell_type": "markdown",
   "id": "93a3328d",
   "metadata": {},
   "source": [
    "The ships h+*hungs in the sky* in much the same way that **bricks don't.**<sup>1</sup><sub>QUOTE</sub>"
   ]
  },
  {
   "cell_type": "markdown",
   "id": "8cb3a461",
   "metadata": {},
   "source": [
    "# The largest heading\n",
    "## The second-largest heading\n",
    "### The third-largest heading\n",
    "#### The smallest heading"
   ]
  },
  {
   "cell_type": "markdown",
   "id": "7b132378",
   "metadata": {},
   "source": [
    "```python\n",
    "print('Hello World!')\n",
    "```"
   ]
  },
  {
   "cell_type": "markdown",
   "id": "63428f76",
   "metadata": {},
   "source": [
    "[SP2273 Website](https://sps.nus.edu.sg/sp2273)"
   ]
  },
  {
   "cell_type": "markdown",
   "id": "af9aac84",
   "metadata": {},
   "source": [
    "![](https://nus.edu.sg/images/default-source/base/logo.png)"
   ]
  },
  {
   "cell_type": "markdown",
   "id": "7289e6ac",
   "metadata": {},
   "source": [
    "|A   |B   |   C|\n",
    "|:---|:--:|---:|\n",
    "|a1  | b1 |  c1|\n",
    "|a2  | b2 |  c2|\n",
    "|a3  | b3 |  c3|"
   ]
  },
  {
   "cell_type": "markdown",
   "id": "b2b1d40a",
   "metadata": {},
   "source": [
    "1. Master Yoda\n",
    "2. Luke Skywalker\n",
    "3. Anakin Skywalker"
   ]
  },
  {
   "cell_type": "markdown",
   "id": "a73e063c",
   "metadata": {},
   "source": [
    "- Master Yoda\n",
    "- Luke Skywalker\n",
    "- Anakin Skywalker"
   ]
  },
  {
   "cell_type": "markdown",
   "id": "0d564631",
   "metadata": {},
   "source": [
    "1. Master Yoda\n",
    "   1. Was a Jedi\n",
    "   1. Was a bit green\n",
    "1. Luke Skywalker \n",
    "    1. Was a Jedi\n",
    "    1. Anakin's Son.\n",
    "1. Anakin Skywalker\n",
    "    1. Was a Jedi then became a baddie\n",
    "    1. Is famous for saying 'Luke, I am your father'"
   ]
  },
  {
   "cell_type": "markdown",
   "id": "6d7e8655",
   "metadata": {},
   "source": [
    "1. Master Yoda\n",
    "    - Was a Jedi\n",
    "    - Was a bit green    \n",
    "2. Luke Skywalker\n",
    "    - Was a Jedi\n",
    "    - Is Anakin's son.\n",
    "3. Anakin Skywalker\n",
    "    - Was a Jedi then became a baddie\n",
    "    - Is famous for saying 'Luke, I am your father'"
   ]
  },
  {
   "cell_type": "markdown",
   "id": "b4a5b099",
   "metadata": {},
   "source": [
    "$$\n",
    "x = \\dfrac{-b \\pm \\sqrt{b^2-4ac}}{2a}\n",
    "$$"
   ]
  },
  {
   "cell_type": "markdown",
   "id": "27d702a9",
   "metadata": {},
   "source": [
    "#### Quadratic Equations\n",
    "![](https://upload.wikimedia.org/wikipedia/commons/thumb/f/f8/Polynomialdeg2.svg/300px-Polynomialdeg2.svg.png)\n",
    "*(Image from the [Wikipedia page on Qudratic equations](https://en.wikipedia.org/wiki/Quadratic_equation))*\n",
    "\n",
    "#### Introduction\n",
    "The general form of a quadratic equation is:\n",
    "$$\n",
    "ax^2 +bx + c = 0\n",
    "$$\n",
    "\n",
    "**Solutions** Provided $a \\ne 0$, we can use an elementary algebraic nethod called [completing the square](https://en.wikipedia.org/wiki/Completing_the_square) to show that a quadratic equation has the following solution:\n",
    "\n",
    "$$\n",
    "x = \\dfrac{-b \\pm \\sqrt{b^2-4ac}}{2a}\n",
    "$$\n",
    "\n",
    "#### Discriminant\n",
    "The quantity $\\Delta= b^2 -4ac$ is called the discriminant of the equation and decides the nature of its solutions. The table below shows the various possibilities. \n",
    "\n",
    "\n",
    "|**Discriminant**   |**Roots**   |\n",
    "|:--:|:---|\n",
    "|$$\\Delta= b^2 -4ac=0$$  | A single solution of $-b/(2a)$| \n",
    "|$\\Delta= b^2 -4ac>0$  | Two distinct solutions | \n",
    "|$\\Delta= b^2 -4ac<0$  | No real solutions; both are complex. |"
   ]
  },
  {
   "cell_type": "markdown",
   "id": "0e18c21a",
   "metadata": {},
   "source": [
    "1. What is a **repository**?\n",
    "    A repository contains all of the project's files and the file's revision history \n",
    "2. Git keep tracks of the revision history in the files in our repository\n",
    "3. What is a **commit?**\n",
    "    It is the change you have made.\n",
    "4. What is a **push**?\n",
    "    It is to \"upload\" this change onto the server\n",
    "5. What is the difference between **GitHub** and **GitHub Desktop**?'\n",
    "    GitHub Desktop is an application that enables the user to interact with GitHub using a GUI. GitHub is a code hosting platform for users to collaborate on software projects. \n",
    "6. Is there an 'opposite to a **push**?\n",
    "    Yes. Git Fetch"
   ]
  },
  {
   "cell_type": "code",
   "execution_count": null,
   "id": "5ace0b64",
   "metadata": {},
   "outputs": [],
   "source": []
  }
 ],
 "metadata": {
  "kernelspec": {
   "display_name": "Python 3 (ipykernel)",
   "language": "python",
   "name": "python3"
  },
  "language_info": {
   "codemirror_mode": {
    "name": "ipython",
    "version": 3
   },
   "file_extension": ".py",
   "mimetype": "text/x-python",
   "name": "python",
   "nbconvert_exporter": "python",
   "pygments_lexer": "ipython3",
   "version": "3.10.8"
  }
 },
 "nbformat": 4,
 "nbformat_minor": 5
}
