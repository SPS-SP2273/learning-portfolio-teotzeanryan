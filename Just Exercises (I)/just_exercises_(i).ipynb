{
 "cells": [
  {
   "cell_type": "markdown",
   "id": "123456",
   "metadata": {},
   "source": [
    "<div style=\"text-align:left;font-size:2em\"><span style=\"font-weight:bolder;font-size:1.25em\">SP2273 | Learning Portfolio</span><br><br><span style=\"font-weight:bold;color:darkred\">Just Exercises (I)</span></div>"
   ]
  },
  {
   "cell_type": "markdown",
   "id": "e5f20ab4",
   "metadata": {},
   "source": [
    "## Exercise 1 :  F-strings to the rescue"
   ]
  },
  {
   "cell_type": "code",
   "execution_count": 9,
   "id": "52b7996f",
   "metadata": {},
   "outputs": [
    {
     "name": "stdout",
     "output_type": "stream",
     "text": [
      "00001\n",
      "00002\n",
      "00003\n",
      "00004\n",
      "00005\n",
      "00006\n",
      "00007\n",
      "00008\n",
      "00009\n",
      "00010\n"
     ]
    }
   ],
   "source": [
    "for i in range(1, 11):\n",
    "    print(f'{i:05.0f}')\n",
    "\n"
   ]
  },
  {
   "cell_type": "code",
   "execution_count": 34,
   "id": "246a3c81",
   "metadata": {
    "scrolled": true
   },
   "outputs": [
    {
     "name": "stdout",
     "output_type": "stream",
     "text": [
      "001          +\n",
      "002         ++\n",
      "003        +++\n",
      "004       ++++\n",
      "005      +++++\n",
      "006     ++++++\n",
      "007    +++++++\n",
      "008   ++++++++\n",
      "009  +++++++++\n",
      "010 ++++++++++\n"
     ]
    }
   ],
   "source": [
    "for i in range(1, 11):\n",
    "    plus= '+'*i\n",
    "    print(f\"{i:03.0f} {plus:>10}\")"
   ]
  },
  {
   "cell_type": "code",
   "execution_count": 37,
   "id": "09858033",
   "metadata": {},
   "outputs": [
    {
     "name": "stdout",
     "output_type": "stream",
     "text": [
      "001 -+++++++++\n",
      "002 --++++++++\n",
      "003 ---+++++++\n",
      "004 ----++++++\n",
      "005 -----+++++\n",
      "006 ------++++\n",
      "007 -------+++\n",
      "008 --------++\n",
      "009 ---------+\n",
      "010 ----------\n"
     ]
    }
   ],
   "source": [
    "for i in range(1, 11):\n",
    "    minus='-'*i\n",
    "    plus='+'*(10-i)\n",
    "    print(f'{i:03.0f} {minus}{plus}')"
   ]
  },
  {
   "cell_type": "code",
   "execution_count": 30,
   "id": "9db05485",
   "metadata": {},
   "outputs": [
    {
     "name": "stdout",
     "output_type": "stream",
     "text": [
      "['bruce_exploits.txt', 'bruce_enemies.txt', 'bruce_friends.txt', 'natasha_exploits.txt', 'natasha_enemies.txt', 'natasha_friends.txt', 'tony_exploits.txt', 'tony_enemies.txt', 'tony_friends.txt']\n"
     ]
    }
   ],
   "source": [
    "real_names = [\"bruce\", \"natasha\", \"tony\"]\n",
    "friends = [\"exploits\", \"enemies\", \"friends\"]\n",
    "\n",
    "x=[]\n",
    "\n",
    "for i in range(len(real_names)):\n",
    "    real_name = real_names[i]\n",
    "    for i in range(len(friends)):\n",
    "        friend = friends[i]\n",
    "        x.append(f'{real_name}_{friend}.txt')\n",
    "print(x)\n"
   ]
  },
  {
   "cell_type": "code",
   "execution_count": 33,
   "id": "a6bf9216",
   "metadata": {},
   "outputs": [
    {
     "name": "stdout",
     "output_type": "stream",
     "text": [
      "['data_sg_exp-01_trial-001.txt', 'data_sg_exp-01_trial-002.txt', 'data_sg_exp-01_trial-003.txt', 'data_sg_exp-01_trial-004.txt', 'data_sg_exp-01_trial-005.txt', 'data_sg_exp-01_trial-006.txt', 'data_sg_exp-01_trial-007.txt', 'data_sg_exp-01_trial-008.txt', 'data_sg_exp-01_trial-009.txt', 'data_sg_exp-01_trial-010.txt', 'data_sg_exp-01_trial-011.txt', 'data_sg_exp-01_trial-012.txt', 'data_sg_exp-01_trial-013.txt', 'data_sg_exp-01_trial-014.txt', 'data_sg_exp-01_trial-015.txt', 'data_sg_exp-01_trial-016.txt', 'data_sg_exp-01_trial-017.txt', 'data_sg_exp-01_trial-018.txt', 'data_sg_exp-01_trial-019.txt', 'data_sg_exp-01_trial-020.txt', 'data_sg_exp-01_trial-021.txt', 'data_sg_exp-01_trial-022.txt', 'data_sg_exp-01_trial-023.txt', 'data_sg_exp-01_trial-024.txt', 'data_sg_exp-01_trial-025.txt', 'data_sg_exp-01_trial-026.txt', 'data_sg_exp-01_trial-027.txt', 'data_sg_exp-01_trial-028.txt', 'data_sg_exp-01_trial-029.txt', 'data_sg_exp-01_trial-030.txt', 'data_sg_exp-01_trial-031.txt', 'data_sg_exp-01_trial-032.txt', 'data_sg_exp-01_trial-033.txt', 'data_sg_exp-01_trial-034.txt', 'data_sg_exp-01_trial-035.txt', 'data_sg_exp-01_trial-036.txt', 'data_sg_exp-01_trial-037.txt', 'data_sg_exp-01_trial-038.txt', 'data_sg_exp-01_trial-039.txt', 'data_sg_exp-01_trial-040.txt', 'data_sg_exp-01_trial-041.txt', 'data_sg_exp-01_trial-042.txt', 'data_sg_exp-01_trial-043.txt', 'data_sg_exp-01_trial-044.txt', 'data_sg_exp-01_trial-045.txt', 'data_sg_exp-01_trial-046.txt', 'data_sg_exp-01_trial-047.txt', 'data_sg_exp-01_trial-048.txt', 'data_sg_exp-01_trial-049.txt', 'data_sg_exp-01_trial-050.txt', 'data_sg_exp-02_trial-001.txt', 'data_sg_exp-02_trial-002.txt', 'data_sg_exp-02_trial-003.txt', 'data_sg_exp-02_trial-004.txt', 'data_sg_exp-02_trial-005.txt', 'data_sg_exp-02_trial-006.txt', 'data_sg_exp-02_trial-007.txt', 'data_sg_exp-02_trial-008.txt', 'data_sg_exp-02_trial-009.txt', 'data_sg_exp-02_trial-010.txt', 'data_sg_exp-02_trial-011.txt', 'data_sg_exp-02_trial-012.txt', 'data_sg_exp-02_trial-013.txt', 'data_sg_exp-02_trial-014.txt', 'data_sg_exp-02_trial-015.txt', 'data_sg_exp-02_trial-016.txt', 'data_sg_exp-02_trial-017.txt', 'data_sg_exp-02_trial-018.txt', 'data_sg_exp-02_trial-019.txt', 'data_sg_exp-02_trial-020.txt', 'data_sg_exp-02_trial-021.txt', 'data_sg_exp-02_trial-022.txt', 'data_sg_exp-02_trial-023.txt', 'data_sg_exp-02_trial-024.txt', 'data_sg_exp-02_trial-025.txt', 'data_sg_exp-02_trial-026.txt', 'data_sg_exp-02_trial-027.txt', 'data_sg_exp-02_trial-028.txt', 'data_sg_exp-02_trial-029.txt', 'data_sg_exp-02_trial-030.txt', 'data_sg_exp-02_trial-031.txt', 'data_sg_exp-02_trial-032.txt', 'data_sg_exp-02_trial-033.txt', 'data_sg_exp-02_trial-034.txt', 'data_sg_exp-02_trial-035.txt', 'data_sg_exp-02_trial-036.txt', 'data_sg_exp-02_trial-037.txt', 'data_sg_exp-02_trial-038.txt', 'data_sg_exp-02_trial-039.txt', 'data_sg_exp-02_trial-040.txt', 'data_sg_exp-02_trial-041.txt', 'data_sg_exp-02_trial-042.txt', 'data_sg_exp-02_trial-043.txt', 'data_sg_exp-02_trial-044.txt', 'data_sg_exp-02_trial-045.txt', 'data_sg_exp-02_trial-046.txt', 'data_sg_exp-02_trial-047.txt', 'data_sg_exp-02_trial-048.txt', 'data_sg_exp-02_trial-049.txt', 'data_sg_exp-02_trial-050.txt', 'data_sg_exp-03_trial-001.txt', 'data_sg_exp-03_trial-002.txt', 'data_sg_exp-03_trial-003.txt', 'data_sg_exp-03_trial-004.txt', 'data_sg_exp-03_trial-005.txt', 'data_sg_exp-03_trial-006.txt', 'data_sg_exp-03_trial-007.txt', 'data_sg_exp-03_trial-008.txt', 'data_sg_exp-03_trial-009.txt', 'data_sg_exp-03_trial-010.txt', 'data_sg_exp-03_trial-011.txt', 'data_sg_exp-03_trial-012.txt', 'data_sg_exp-03_trial-013.txt', 'data_sg_exp-03_trial-014.txt', 'data_sg_exp-03_trial-015.txt', 'data_sg_exp-03_trial-016.txt', 'data_sg_exp-03_trial-017.txt', 'data_sg_exp-03_trial-018.txt', 'data_sg_exp-03_trial-019.txt', 'data_sg_exp-03_trial-020.txt', 'data_sg_exp-03_trial-021.txt', 'data_sg_exp-03_trial-022.txt', 'data_sg_exp-03_trial-023.txt', 'data_sg_exp-03_trial-024.txt', 'data_sg_exp-03_trial-025.txt', 'data_sg_exp-03_trial-026.txt', 'data_sg_exp-03_trial-027.txt', 'data_sg_exp-03_trial-028.txt', 'data_sg_exp-03_trial-029.txt', 'data_sg_exp-03_trial-030.txt', 'data_sg_exp-03_trial-031.txt', 'data_sg_exp-03_trial-032.txt', 'data_sg_exp-03_trial-033.txt', 'data_sg_exp-03_trial-034.txt', 'data_sg_exp-03_trial-035.txt', 'data_sg_exp-03_trial-036.txt', 'data_sg_exp-03_trial-037.txt', 'data_sg_exp-03_trial-038.txt', 'data_sg_exp-03_trial-039.txt', 'data_sg_exp-03_trial-040.txt', 'data_sg_exp-03_trial-041.txt', 'data_sg_exp-03_trial-042.txt', 'data_sg_exp-03_trial-043.txt', 'data_sg_exp-03_trial-044.txt', 'data_sg_exp-03_trial-045.txt', 'data_sg_exp-03_trial-046.txt', 'data_sg_exp-03_trial-047.txt', 'data_sg_exp-03_trial-048.txt', 'data_sg_exp-03_trial-049.txt', 'data_sg_exp-03_trial-050.txt', 'data_uk_exp-01_trial-001.txt', 'data_uk_exp-01_trial-002.txt', 'data_uk_exp-01_trial-003.txt', 'data_uk_exp-01_trial-004.txt', 'data_uk_exp-01_trial-005.txt', 'data_uk_exp-01_trial-006.txt', 'data_uk_exp-01_trial-007.txt', 'data_uk_exp-01_trial-008.txt', 'data_uk_exp-01_trial-009.txt', 'data_uk_exp-01_trial-010.txt', 'data_uk_exp-01_trial-011.txt', 'data_uk_exp-01_trial-012.txt', 'data_uk_exp-01_trial-013.txt', 'data_uk_exp-01_trial-014.txt', 'data_uk_exp-01_trial-015.txt', 'data_uk_exp-01_trial-016.txt', 'data_uk_exp-01_trial-017.txt', 'data_uk_exp-01_trial-018.txt', 'data_uk_exp-01_trial-019.txt', 'data_uk_exp-01_trial-020.txt', 'data_uk_exp-01_trial-021.txt', 'data_uk_exp-01_trial-022.txt', 'data_uk_exp-01_trial-023.txt', 'data_uk_exp-01_trial-024.txt', 'data_uk_exp-01_trial-025.txt', 'data_uk_exp-01_trial-026.txt', 'data_uk_exp-01_trial-027.txt', 'data_uk_exp-01_trial-028.txt', 'data_uk_exp-01_trial-029.txt', 'data_uk_exp-01_trial-030.txt', 'data_uk_exp-01_trial-031.txt', 'data_uk_exp-01_trial-032.txt', 'data_uk_exp-01_trial-033.txt', 'data_uk_exp-01_trial-034.txt', 'data_uk_exp-01_trial-035.txt', 'data_uk_exp-01_trial-036.txt', 'data_uk_exp-01_trial-037.txt', 'data_uk_exp-01_trial-038.txt', 'data_uk_exp-01_trial-039.txt', 'data_uk_exp-01_trial-040.txt', 'data_uk_exp-01_trial-041.txt', 'data_uk_exp-01_trial-042.txt', 'data_uk_exp-01_trial-043.txt', 'data_uk_exp-01_trial-044.txt', 'data_uk_exp-01_trial-045.txt', 'data_uk_exp-01_trial-046.txt', 'data_uk_exp-01_trial-047.txt', 'data_uk_exp-01_trial-048.txt', 'data_uk_exp-01_trial-049.txt', 'data_uk_exp-01_trial-050.txt', 'data_uk_exp-02_trial-001.txt', 'data_uk_exp-02_trial-002.txt', 'data_uk_exp-02_trial-003.txt', 'data_uk_exp-02_trial-004.txt', 'data_uk_exp-02_trial-005.txt', 'data_uk_exp-02_trial-006.txt', 'data_uk_exp-02_trial-007.txt', 'data_uk_exp-02_trial-008.txt', 'data_uk_exp-02_trial-009.txt', 'data_uk_exp-02_trial-010.txt', 'data_uk_exp-02_trial-011.txt', 'data_uk_exp-02_trial-012.txt', 'data_uk_exp-02_trial-013.txt', 'data_uk_exp-02_trial-014.txt', 'data_uk_exp-02_trial-015.txt', 'data_uk_exp-02_trial-016.txt', 'data_uk_exp-02_trial-017.txt', 'data_uk_exp-02_trial-018.txt', 'data_uk_exp-02_trial-019.txt', 'data_uk_exp-02_trial-020.txt', 'data_uk_exp-02_trial-021.txt', 'data_uk_exp-02_trial-022.txt', 'data_uk_exp-02_trial-023.txt', 'data_uk_exp-02_trial-024.txt', 'data_uk_exp-02_trial-025.txt', 'data_uk_exp-02_trial-026.txt', 'data_uk_exp-02_trial-027.txt', 'data_uk_exp-02_trial-028.txt', 'data_uk_exp-02_trial-029.txt', 'data_uk_exp-02_trial-030.txt', 'data_uk_exp-02_trial-031.txt', 'data_uk_exp-02_trial-032.txt', 'data_uk_exp-02_trial-033.txt', 'data_uk_exp-02_trial-034.txt', 'data_uk_exp-02_trial-035.txt', 'data_uk_exp-02_trial-036.txt', 'data_uk_exp-02_trial-037.txt', 'data_uk_exp-02_trial-038.txt', 'data_uk_exp-02_trial-039.txt', 'data_uk_exp-02_trial-040.txt', 'data_uk_exp-02_trial-041.txt', 'data_uk_exp-02_trial-042.txt', 'data_uk_exp-02_trial-043.txt', 'data_uk_exp-02_trial-044.txt', 'data_uk_exp-02_trial-045.txt', 'data_uk_exp-02_trial-046.txt', 'data_uk_exp-02_trial-047.txt', 'data_uk_exp-02_trial-048.txt', 'data_uk_exp-02_trial-049.txt', 'data_uk_exp-02_trial-050.txt', 'data_uk_exp-03_trial-001.txt', 'data_uk_exp-03_trial-002.txt', 'data_uk_exp-03_trial-003.txt', 'data_uk_exp-03_trial-004.txt', 'data_uk_exp-03_trial-005.txt', 'data_uk_exp-03_trial-006.txt', 'data_uk_exp-03_trial-007.txt', 'data_uk_exp-03_trial-008.txt', 'data_uk_exp-03_trial-009.txt', 'data_uk_exp-03_trial-010.txt', 'data_uk_exp-03_trial-011.txt', 'data_uk_exp-03_trial-012.txt', 'data_uk_exp-03_trial-013.txt', 'data_uk_exp-03_trial-014.txt', 'data_uk_exp-03_trial-015.txt', 'data_uk_exp-03_trial-016.txt', 'data_uk_exp-03_trial-017.txt', 'data_uk_exp-03_trial-018.txt', 'data_uk_exp-03_trial-019.txt', 'data_uk_exp-03_trial-020.txt', 'data_uk_exp-03_trial-021.txt', 'data_uk_exp-03_trial-022.txt', 'data_uk_exp-03_trial-023.txt', 'data_uk_exp-03_trial-024.txt', 'data_uk_exp-03_trial-025.txt', 'data_uk_exp-03_trial-026.txt', 'data_uk_exp-03_trial-027.txt', 'data_uk_exp-03_trial-028.txt', 'data_uk_exp-03_trial-029.txt', 'data_uk_exp-03_trial-030.txt', 'data_uk_exp-03_trial-031.txt', 'data_uk_exp-03_trial-032.txt', 'data_uk_exp-03_trial-033.txt', 'data_uk_exp-03_trial-034.txt', 'data_uk_exp-03_trial-035.txt', 'data_uk_exp-03_trial-036.txt', 'data_uk_exp-03_trial-037.txt', 'data_uk_exp-03_trial-038.txt', 'data_uk_exp-03_trial-039.txt', 'data_uk_exp-03_trial-040.txt', 'data_uk_exp-03_trial-041.txt', 'data_uk_exp-03_trial-042.txt', 'data_uk_exp-03_trial-043.txt', 'data_uk_exp-03_trial-044.txt', 'data_uk_exp-03_trial-045.txt', 'data_uk_exp-03_trial-046.txt', 'data_uk_exp-03_trial-047.txt', 'data_uk_exp-03_trial-048.txt', 'data_uk_exp-03_trial-049.txt', 'data_uk_exp-03_trial-050.txt', 'data_us_exp-01_trial-001.txt', 'data_us_exp-01_trial-002.txt', 'data_us_exp-01_trial-003.txt', 'data_us_exp-01_trial-004.txt', 'data_us_exp-01_trial-005.txt', 'data_us_exp-01_trial-006.txt', 'data_us_exp-01_trial-007.txt', 'data_us_exp-01_trial-008.txt', 'data_us_exp-01_trial-009.txt', 'data_us_exp-01_trial-010.txt', 'data_us_exp-01_trial-011.txt', 'data_us_exp-01_trial-012.txt', 'data_us_exp-01_trial-013.txt', 'data_us_exp-01_trial-014.txt', 'data_us_exp-01_trial-015.txt', 'data_us_exp-01_trial-016.txt', 'data_us_exp-01_trial-017.txt', 'data_us_exp-01_trial-018.txt', 'data_us_exp-01_trial-019.txt', 'data_us_exp-01_trial-020.txt', 'data_us_exp-01_trial-021.txt', 'data_us_exp-01_trial-022.txt', 'data_us_exp-01_trial-023.txt', 'data_us_exp-01_trial-024.txt', 'data_us_exp-01_trial-025.txt', 'data_us_exp-01_trial-026.txt', 'data_us_exp-01_trial-027.txt', 'data_us_exp-01_trial-028.txt', 'data_us_exp-01_trial-029.txt', 'data_us_exp-01_trial-030.txt', 'data_us_exp-01_trial-031.txt', 'data_us_exp-01_trial-032.txt', 'data_us_exp-01_trial-033.txt', 'data_us_exp-01_trial-034.txt', 'data_us_exp-01_trial-035.txt', 'data_us_exp-01_trial-036.txt', 'data_us_exp-01_trial-037.txt', 'data_us_exp-01_trial-038.txt', 'data_us_exp-01_trial-039.txt', 'data_us_exp-01_trial-040.txt', 'data_us_exp-01_trial-041.txt', 'data_us_exp-01_trial-042.txt', 'data_us_exp-01_trial-043.txt', 'data_us_exp-01_trial-044.txt', 'data_us_exp-01_trial-045.txt', 'data_us_exp-01_trial-046.txt', 'data_us_exp-01_trial-047.txt', 'data_us_exp-01_trial-048.txt', 'data_us_exp-01_trial-049.txt', 'data_us_exp-01_trial-050.txt', 'data_us_exp-02_trial-001.txt', 'data_us_exp-02_trial-002.txt', 'data_us_exp-02_trial-003.txt', 'data_us_exp-02_trial-004.txt', 'data_us_exp-02_trial-005.txt', 'data_us_exp-02_trial-006.txt', 'data_us_exp-02_trial-007.txt', 'data_us_exp-02_trial-008.txt', 'data_us_exp-02_trial-009.txt', 'data_us_exp-02_trial-010.txt', 'data_us_exp-02_trial-011.txt', 'data_us_exp-02_trial-012.txt', 'data_us_exp-02_trial-013.txt', 'data_us_exp-02_trial-014.txt', 'data_us_exp-02_trial-015.txt', 'data_us_exp-02_trial-016.txt', 'data_us_exp-02_trial-017.txt', 'data_us_exp-02_trial-018.txt', 'data_us_exp-02_trial-019.txt', 'data_us_exp-02_trial-020.txt', 'data_us_exp-02_trial-021.txt', 'data_us_exp-02_trial-022.txt', 'data_us_exp-02_trial-023.txt', 'data_us_exp-02_trial-024.txt', 'data_us_exp-02_trial-025.txt', 'data_us_exp-02_trial-026.txt', 'data_us_exp-02_trial-027.txt', 'data_us_exp-02_trial-028.txt', 'data_us_exp-02_trial-029.txt', 'data_us_exp-02_trial-030.txt', 'data_us_exp-02_trial-031.txt', 'data_us_exp-02_trial-032.txt', 'data_us_exp-02_trial-033.txt', 'data_us_exp-02_trial-034.txt', 'data_us_exp-02_trial-035.txt', 'data_us_exp-02_trial-036.txt', 'data_us_exp-02_trial-037.txt', 'data_us_exp-02_trial-038.txt', 'data_us_exp-02_trial-039.txt', 'data_us_exp-02_trial-040.txt', 'data_us_exp-02_trial-041.txt', 'data_us_exp-02_trial-042.txt', 'data_us_exp-02_trial-043.txt', 'data_us_exp-02_trial-044.txt', 'data_us_exp-02_trial-045.txt', 'data_us_exp-02_trial-046.txt', 'data_us_exp-02_trial-047.txt', 'data_us_exp-02_trial-048.txt', 'data_us_exp-02_trial-049.txt', 'data_us_exp-02_trial-050.txt', 'data_us_exp-03_trial-001.txt', 'data_us_exp-03_trial-002.txt', 'data_us_exp-03_trial-003.txt', 'data_us_exp-03_trial-004.txt', 'data_us_exp-03_trial-005.txt', 'data_us_exp-03_trial-006.txt', 'data_us_exp-03_trial-007.txt', 'data_us_exp-03_trial-008.txt', 'data_us_exp-03_trial-009.txt', 'data_us_exp-03_trial-010.txt', 'data_us_exp-03_trial-011.txt', 'data_us_exp-03_trial-012.txt', 'data_us_exp-03_trial-013.txt', 'data_us_exp-03_trial-014.txt', 'data_us_exp-03_trial-015.txt', 'data_us_exp-03_trial-016.txt', 'data_us_exp-03_trial-017.txt', 'data_us_exp-03_trial-018.txt', 'data_us_exp-03_trial-019.txt', 'data_us_exp-03_trial-020.txt', 'data_us_exp-03_trial-021.txt', 'data_us_exp-03_trial-022.txt', 'data_us_exp-03_trial-023.txt', 'data_us_exp-03_trial-024.txt', 'data_us_exp-03_trial-025.txt', 'data_us_exp-03_trial-026.txt', 'data_us_exp-03_trial-027.txt', 'data_us_exp-03_trial-028.txt', 'data_us_exp-03_trial-029.txt', 'data_us_exp-03_trial-030.txt', 'data_us_exp-03_trial-031.txt', 'data_us_exp-03_trial-032.txt', 'data_us_exp-03_trial-033.txt', 'data_us_exp-03_trial-034.txt', 'data_us_exp-03_trial-035.txt', 'data_us_exp-03_trial-036.txt', 'data_us_exp-03_trial-037.txt', 'data_us_exp-03_trial-038.txt', 'data_us_exp-03_trial-039.txt', 'data_us_exp-03_trial-040.txt', 'data_us_exp-03_trial-041.txt', 'data_us_exp-03_trial-042.txt', 'data_us_exp-03_trial-043.txt', 'data_us_exp-03_trial-044.txt', 'data_us_exp-03_trial-045.txt', 'data_us_exp-03_trial-046.txt', 'data_us_exp-03_trial-047.txt', 'data_us_exp-03_trial-048.txt', 'data_us_exp-03_trial-049.txt', 'data_us_exp-03_trial-050.txt']\n"
     ]
    }
   ],
   "source": [
    "countries = [\"sg\", \"uk\", \"us\"]\n",
    "\n",
    "x = []\n",
    "\n",
    "for i in range(len(countries)):\n",
    "    country = countries[i]\n",
    "    for n in range (1,4):\n",
    "        for m in range (1,51):\n",
    "            x.append(f'data_{country}_exp-{n:02.0f}_trial-{m:03.0f}.txt')\n",
    "print(x)\n",
    "        \n",
    "        \n",
    "\n",
    "\n",
    "\n",
    "\n",
    "\n"
   ]
  },
  {
   "cell_type": "markdown",
   "id": "fd71bced",
   "metadata": {},
   "source": [
    "## Exercise 2 :  Tutti frutti"
   ]
  },
  {
   "cell_type": "code",
   "execution_count": 20,
   "id": "de634fed",
   "metadata": {},
   "outputs": [
    {
     "data": {
      "text/plain": [
       "True"
      ]
     },
     "execution_count": 20,
     "metadata": {},
     "output_type": "execute_result"
    }
   ],
   "source": [
    "fruits = [\"apple\", \"banana\", \"pineapple\", \"jackfruit\",\n",
    "        \"peach\", \"durian\", \"watermelon\", \"mango\",\n",
    "        \"strawberry\", \"passionfruit\"]\n",
    "\n",
    "'mango' in fruits"
   ]
  },
  {
   "cell_type": "code",
   "execution_count": 22,
   "id": "1550481d",
   "metadata": {},
   "outputs": [
    {
     "name": "stdout",
     "output_type": "stream",
     "text": [
      "ae\n",
      "ba\n",
      "pe\n",
      "jt\n",
      "ph\n",
      "dn\n",
      "wn\n",
      "mo\n",
      "sy\n",
      "pt\n"
     ]
    }
   ],
   "source": [
    "for i in range(len(fruits)):\n",
    "    fruit = fruits[i]\n",
    "    start = fruit[0]\n",
    "    end = fruit[-1]\n",
    "    \n",
    "    print(f'{start}{end}')"
   ]
  },
  {
   "cell_type": "code",
   "execution_count": 23,
   "id": "f7a990e8",
   "metadata": {},
   "outputs": [
    {
     "name": "stdout",
     "output_type": "stream",
     "text": [
      "apple\n",
      "banana\n",
      "PINEAPPLE\n",
      "jackfruit\n",
      "PEACH\n",
      "durian\n",
      "watermelon\n",
      "mango\n",
      "strawberry\n",
      "PASSIONFRUIT\n"
     ]
    }
   ],
   "source": [
    "fruits = [\"apple\", \"banana\", \"pineapple\", \"jackfruit\",\n",
    "        \"peach\", \"durian\", \"watermelon\", \"mango\",\n",
    "        \"strawberry\", \"passionfruit\"]\n",
    "\n",
    "for i in range(len(fruits)):\n",
    "    fruit = fruits[i]\n",
    "    if fruit[0] == 'p':\n",
    "        print(fruit.upper())\n",
    "        \n",
    "    else: \n",
    "        print(fruit.lower())\n",
    "        \n",
    "    "
   ]
  },
  {
   "cell_type": "code",
   "execution_count": 24,
   "id": "62a6ff5d",
   "metadata": {},
   "outputs": [
    {
     "data": {
      "text/plain": [
       "['apple',\n",
       " 'banana',\n",
       " 'pineapple',\n",
       " 'jackfruit',\n",
       " 'peach',\n",
       " 'durian',\n",
       " 'watermelon',\n",
       " 'mango',\n",
       " 'strawberry',\n",
       " 'passionfruit',\n",
       " 'dragon fruit',\n",
       " 'apricots',\n",
       " 'oranges']"
      ]
     },
     "execution_count": 24,
     "metadata": {},
     "output_type": "execute_result"
    }
   ],
   "source": [
    "fruits = [\"apple\", \"banana\", \"pineapple\", \"jackfruit\",\n",
    "        \"peach\", \"durian\", \"watermelon\", \"mango\",\n",
    "        \"strawberry\", \"passionfruit\"]\n",
    "\n",
    "extra_fruits = [\"dragon fruit\", \"apricots\", \"oranges\"]\n",
    "\n",
    "fruits += extra_fruits\n",
    "\n",
    "fruits"
   ]
  },
  {
   "cell_type": "code",
   "execution_count": 25,
   "id": "6afcda9e",
   "metadata": {},
   "outputs": [
    {
     "data": {
      "text/plain": [
       "['dragon fruit',\n",
       " 'apricots',\n",
       " 'oranges',\n",
       " 'apple',\n",
       " 'banana',\n",
       " 'pineapple',\n",
       " 'jackfruit',\n",
       " 'peach',\n",
       " 'durian',\n",
       " 'watermelon',\n",
       " 'mango',\n",
       " 'strawberry',\n",
       " 'passionfruit']"
      ]
     },
     "execution_count": 25,
     "metadata": {},
     "output_type": "execute_result"
    }
   ],
   "source": [
    "extra_fruits = [\"dragon fruit\", \"apricots\", \"oranges\"]\n",
    "\n",
    "fruits = [\"apple\", \"banana\", \"pineapple\", \"jackfruit\",\n",
    "        \"peach\", \"durian\", \"watermelon\", \"mango\",\n",
    "        \"strawberry\", \"passionfruit\"]\n",
    "\n",
    "extra_fruits += fruits\n",
    "extra_fruits"
   ]
  },
  {
   "cell_type": "code",
   "execution_count": 26,
   "id": "8cbea31e",
   "metadata": {},
   "outputs": [
    {
     "name": "stdout",
     "output_type": "stream",
     "text": [
      "['apple', 'banana', 'pineapple', 'jackfruit', 'dragon fruit', 'apricots', 'oranges', 'watermelon', 'mango', 'strawberry', 'passionfruit']\n"
     ]
    }
   ],
   "source": [
    "extra_fruits = [\"dragon fruit\", \"apricots\", \"oranges\"]\n",
    "\n",
    "fruits = [\"apple\", \"banana\", \"pineapple\", \"jackfruit\",\n",
    "        \"peach\", \"durian\", \"watermelon\", \"mango\",\n",
    "        \"strawberry\", \"passionfruit\"]\n",
    "\n",
    "fruits[4:6] = extra_fruits\n",
    "print(fruits)\n",
    "\n",
    "    "
   ]
  },
  {
   "cell_type": "code",
   "execution_count": 41,
   "id": "71f87f52",
   "metadata": {},
   "outputs": [
    {
     "name": "stdout",
     "output_type": "stream",
     "text": [
      "['apple', 'banana', 'pineapple', 'jackfruit', 'peach', 'dragon fruit', 'apricots', 'oranges', 'durian', 'watermelon', 'mango', 'strawberry', 'passionfruit']\n"
     ]
    }
   ],
   "source": [
    "extra_fruits = [\"dragon fruit\", \"apricots\", \"oranges\"]\n",
    "\n",
    "fruits = [\"apple\", \"banana\", \"pineapple\", \"jackfruit\",\n",
    "        \"peach\", \"durian\", \"watermelon\", \"mango\",\n",
    "        \"strawberry\", \"passionfruit\"]\n",
    "\n",
    "half_length = len(fruits) / 2\n",
    "first_half = int(half_length)\n",
    "\n",
    "new_fruits = fruits[:first_half] + extra_fruits + fruits[first_half:]\n",
    "\n",
    "print(new_fruits)"
   ]
  },
  {
   "cell_type": "code",
   "execution_count": 27,
   "id": "6513b2a6",
   "metadata": {},
   "outputs": [
    {
     "name": "stdout",
     "output_type": "stream",
     "text": [
      "['pineapple', 'jackfruit', 'watermelon', 'strawberry', 'passionfruit']\n"
     ]
    }
   ],
   "source": [
    "fruits = [\"apple\", \"banana\", \"pineapple\", \"jackfruit\",\n",
    "        \"peach\", \"durian\", \"watermelon\", \"mango\",\n",
    "        \"strawberry\", \"passionfruit\"]\n",
    "\n",
    "fruits = [fruit for fruit in fruits if len(fruit) > 8]\n",
    "print(fruits)"
   ]
  },
  {
   "cell_type": "code",
   "execution_count": 28,
   "id": "4fd6bac1",
   "metadata": {},
   "outputs": [
    {
     "data": {
      "text/plain": [
       "7"
      ]
     },
     "execution_count": 28,
     "metadata": {},
     "output_type": "execute_result"
    }
   ],
   "source": [
    "x = 5\n",
    "x += 2\n",
    "x"
   ]
  },
  {
   "cell_type": "markdown",
   "id": "35b45084",
   "metadata": {},
   "source": [
    "## Exercise 3 :  Ciao Fibonacci"
   ]
  },
  {
   "cell_type": "code",
   "execution_count": 29,
   "id": "1c999270",
   "metadata": {},
   "outputs": [
    {
     "name": "stdout",
     "output_type": "stream",
     "text": [
      "[0, 1, 1, 2, 3, 5, 8, 13, 21, 34, 55, 89, 144, 233, 377]\n"
     ]
    }
   ],
   "source": [
    "fibonacci = [0, 1]\n",
    "    \n",
    "for i in range(13):\n",
    "    fibonacci.append(fibonacci[-1]+fibonacci[-2])\n",
    "    \n",
    "print(fibonacci)\n",
    "\n"
   ]
  },
  {
   "cell_type": "markdown",
   "id": "b60ebd36",
   "metadata": {},
   "source": [
    "## Exercise 4 :  A function for Fibonacci"
   ]
  },
  {
   "cell_type": "code",
   "execution_count": 30,
   "id": "45e0d4b9",
   "metadata": {},
   "outputs": [
    {
     "data": {
      "text/plain": [
       "[0]"
      ]
     },
     "execution_count": 30,
     "metadata": {},
     "output_type": "execute_result"
    }
   ],
   "source": [
    "def fibonacci(n):\n",
    "    fib = [0, 1]\n",
    "    if n > 1:\n",
    "        for i in range(n-2):\n",
    "            fib.append(fib[-1]+fib[-2])\n",
    "        return fib\n",
    "    elif n == 1:\n",
    "        return [0]        \n",
    "    else:\n",
    "        return []\n",
    "\n",
    "fibonacci(1)"
   ]
  },
  {
   "cell_type": "markdown",
   "id": "b11fde08",
   "metadata": {},
   "source": [
    "## Exercise 5 :  max_info() without NumPy"
   ]
  },
  {
   "cell_type": "code",
   "execution_count": 31,
   "id": "d66e389f",
   "metadata": {
    "scrolled": true
   },
   "outputs": [
    {
     "data": {
      "text/plain": [
       "(83, 2)"
      ]
     },
     "execution_count": 31,
     "metadata": {},
     "output_type": "execute_result"
    }
   ],
   "source": [
    "def max_info(numbers):\n",
    "    my_max = numbers[0]\n",
    "    for i in range(len(numbers)):\n",
    "        if  my_max < numbers[i]:\n",
    "            my_max = numbers[i]\n",
    "            my_max_index = i\n",
    "    return my_max, my_max_index\n",
    "\n",
    "numbers = [40, 27, 83, 44, 74, 51, 76, 77, 10, 49]\n",
    "max_info(numbers)"
   ]
  },
  {
   "cell_type": "markdown",
   "id": "7dfbc1c7",
   "metadata": {},
   "source": [
    "## Exercise 6 :  Take count"
   ]
  },
  {
   "cell_type": "code",
   "execution_count": 2,
   "id": "7f27daf9",
   "metadata": {},
   "outputs": [
    {
     "name": "stdout",
     "output_type": "stream",
     "text": [
      "254\n",
      "254\n"
     ]
    }
   ],
   "source": [
    "dna_sequence = \"AGGCAAGAAGCTAGAATTCTGGCCTGAGTATCTCAGTACAGGCGCAGTCGAATCTTCCGGAATCACATTGCTCGCGCTTAAACCCGCTCTAAACCTTTGAGTAATTCGACGACATTGGGTTCCCTCCGACGCTGTCTGACAACTCTTTAAGATCCTTGGCACGATGTCGATAGACATTGTCCCTGATGACGCCTCACAAGGTAACCTGGCTCTAGTAGGGTGGTCTTTGCTGCGGAACTTACCACCTGGTGGATCCAAGCACCAGAGGAGTTCGAAGAGGCTGGGGTACCCCCTATTTAGGAAGGGCGAGACTACGGTCACAAATTCCAAATGGCTTCCCTCGATTCATGACGCCAGAATGCCTGGCTGTGCCAATTTGTCGCCTTGCGTCGTTCTGTCAATCTTTACTCGTGTCGTGTTGTGATAAATGACAAACCCTGCACAACGTAGGGCTCACACAAGGGAATCTAGAGTATCCGATACAGGGAGCTTTAGCTTCCGTCCCTTATAGCCTGCCATATTCTTGCGGTAGCACGAGCCTCAGATCTTCTCACTCCGGAAATGGGAGCTTCGACGGTCAAGGGCTAAGACGTCTTCGGGAGAAATACCTAGGCGATGACCCTGAGTGGTTTTCCGCGTATAACTCATCCTGGTTGCAAATGATTACCGTTATAGCCTGGGGATATGCCTCAATTCCGAACCCAGGAGCATCACTCGAGCAATAGCGGTAAAGGAGGCTATTAGCAAAATTGTCACGATAAGCGCCGTTGTAGTGAAATTAAGATACATACATCGTTTAGCACATCACTCTCACGGCGTCTAGAAGCTGATCTTCATATGCTGACTCAGAAGGCTCGGATAATAGAGGACGAAGGTAGTTTACTCATCGCTGCCCCGACTATTACGTGTGCATGATAAAGTCTGACCCTGACGTTCCCAAGCCGAGGCAGAGGGGTTTTACGCTGAATGTCCGCTCTCTGTCGGATGATTTCGGAAGCTG\"\n",
    "\n",
    "dna_list = list(dna_sequence)\n",
    "number = 0\n",
    "\n",
    "for i in range(len(dna_list)):\n",
    "    nucleotide = dna_list[i]\n",
    "    if nucleotide == 'T':\n",
    "        number += 1\n",
    "        \n",
    "print(number)\n",
    "\n",
    "print(len([letter for letter in dna_list if letter == \"T\" ]))"
   ]
  },
  {
   "cell_type": "code",
   "execution_count": 3,
   "id": "f5efc003",
   "metadata": {},
   "outputs": [
    {
     "name": "stdout",
     "output_type": "stream",
     "text": [
      "247\n",
      "249\n",
      "254\n",
      "250\n"
     ]
    }
   ],
   "source": [
    "dna_info = {\"A\": 0, \"G\": 0, \"T\": 0, \"C\": 0}\n",
    "\n",
    "for i in range(len(dna_list)):\n",
    "    nucleotide = dna_list[i]\n",
    "    if nucleotide == 'A':\n",
    "        dna_info[\"A\"] += 1\n",
    "    elif nucleotide == 'T':\n",
    "        dna_info[\"T\"] += 1    \n",
    "    elif nucleotide == 'G':\n",
    "        dna_info[\"G\"] += 1\n",
    "    else :\n",
    "        dna_info[\"C\"] += 1    \n",
    "        \n",
    "        \n",
    "print(dna_info[\"A\"])\n",
    "print(dna_info[\"G\"])\n",
    "print(dna_info[\"T\"])\n",
    "print(dna_info[\"C\"])"
   ]
  },
  {
   "cell_type": "code",
   "execution_count": 4,
   "id": "43537886",
   "metadata": {},
   "outputs": [
    {
     "name": "stdout",
     "output_type": "stream",
     "text": [
      "Letters: ['A' 'C' 'G' 'T']\n",
      "Counts: [247 250 249 254]\n"
     ]
    }
   ],
   "source": [
    "letters, counts = np.unique(dna_list, return_counts=True)\n",
    "\n",
    "print(\"Letters:\", letters)\n",
    "print(\"Counts:\", counts)"
   ]
  },
  {
   "cell_type": "code",
   "execution_count": 5,
   "id": "f7faa37c",
   "metadata": {},
   "outputs": [
    {
     "name": "stdout",
     "output_type": "stream",
     "text": [
      "[['A', 'G', 'G', 'C'], ['A', 'A', 'G', 'A'], ['A', 'G', 'C', 'T'], ['A', 'G', 'A', 'A'], ['T', 'T', 'C', 'T'], ['G', 'G', 'C', 'C'], ['T', 'G', 'A', 'G'], ['T', 'A', 'T', 'C'], ['T', 'C', 'A', 'G'], ['T', 'A', 'C', 'A'], ['G', 'G', 'C', 'G'], ['C', 'A', 'G', 'T'], ['C', 'G', 'A', 'A'], ['T', 'C', 'T', 'T'], ['C', 'C', 'G', 'G'], ['A', 'A', 'T', 'C'], ['A', 'C', 'A', 'T'], ['T', 'G', 'C', 'T'], ['C', 'G', 'C', 'G'], ['C', 'T', 'T', 'A'], ['A', 'A', 'C', 'C'], ['C', 'G', 'C', 'T'], ['C', 'T', 'A', 'A'], ['A', 'C', 'C', 'T'], ['T', 'T', 'G', 'A'], ['G', 'T', 'A', 'A'], ['T', 'T', 'C', 'G'], ['A', 'C', 'G', 'A'], ['C', 'A', 'T', 'T'], ['G', 'G', 'G', 'T'], ['T', 'C', 'C', 'C'], ['T', 'C', 'C', 'G'], ['A', 'C', 'G', 'C'], ['T', 'G', 'T', 'C'], ['T', 'G', 'A', 'C'], ['A', 'A', 'C', 'T'], ['C', 'T', 'T', 'T'], ['A', 'A', 'G', 'A'], ['T', 'C', 'C', 'T'], ['T', 'G', 'G', 'C'], ['A', 'C', 'G', 'A'], ['T', 'G', 'T', 'C'], ['G', 'A', 'T', 'A'], ['G', 'A', 'C', 'A'], ['T', 'T', 'G', 'T'], ['C', 'C', 'C', 'T'], ['G', 'A', 'T', 'G'], ['A', 'C', 'G', 'C'], ['C', 'T', 'C', 'A'], ['C', 'A', 'A', 'G'], ['G', 'T', 'A', 'A'], ['C', 'C', 'T', 'G'], ['G', 'C', 'T', 'C'], ['T', 'A', 'G', 'T'], ['A', 'G', 'G', 'G'], ['T', 'G', 'G', 'T'], ['C', 'T', 'T', 'T'], ['G', 'C', 'T', 'G'], ['C', 'G', 'G', 'A'], ['A', 'C', 'T', 'T'], ['A', 'C', 'C', 'A'], ['C', 'C', 'T', 'G'], ['G', 'T', 'G', 'G'], ['A', 'T', 'C', 'C'], ['A', 'A', 'G', 'C'], ['A', 'C', 'C', 'A'], ['G', 'A', 'G', 'G'], ['A', 'G', 'T', 'T'], ['C', 'G', 'A', 'A'], ['G', 'A', 'G', 'G'], ['C', 'T', 'G', 'G'], ['G', 'G', 'T', 'A'], ['C', 'C', 'C', 'C'], ['C', 'T', 'A', 'T'], ['T', 'T', 'A', 'G'], ['G', 'A', 'A', 'G'], ['G', 'G', 'C', 'G'], ['A', 'G', 'A', 'C'], ['T', 'A', 'C', 'G'], ['G', 'T', 'C', 'A'], ['C', 'A', 'A', 'A'], ['T', 'T', 'C', 'C'], ['A', 'A', 'A', 'T'], ['G', 'G', 'C', 'T'], ['T', 'C', 'C', 'C'], ['T', 'C', 'G', 'A'], ['T', 'T', 'C', 'A'], ['T', 'G', 'A', 'C'], ['G', 'C', 'C', 'A'], ['G', 'A', 'A', 'T'], ['G', 'C', 'C', 'T'], ['G', 'G', 'C', 'T'], ['G', 'T', 'G', 'C'], ['C', 'A', 'A', 'T'], ['T', 'T', 'G', 'T'], ['C', 'G', 'C', 'C'], ['T', 'T', 'G', 'C'], ['G', 'T', 'C', 'G'], ['T', 'T', 'C', 'T'], ['G', 'T', 'C', 'A'], ['A', 'T', 'C', 'T'], ['T', 'T', 'A', 'C'], ['T', 'C', 'G', 'T'], ['G', 'T', 'C', 'G'], ['T', 'G', 'T', 'T'], ['G', 'T', 'G', 'A'], ['T', 'A', 'A', 'A'], ['T', 'G', 'A', 'C'], ['A', 'A', 'A', 'C'], ['C', 'C', 'T', 'G'], ['C', 'A', 'C', 'A'], ['A', 'C', 'G', 'T'], ['A', 'G', 'G', 'G'], ['C', 'T', 'C', 'A'], ['C', 'A', 'C', 'A'], ['A', 'G', 'G', 'G'], ['A', 'A', 'T', 'C'], ['T', 'A', 'G', 'A'], ['G', 'T', 'A', 'T'], ['C', 'C', 'G', 'A'], ['T', 'A', 'C', 'A'], ['G', 'G', 'G', 'A'], ['G', 'C', 'T', 'T'], ['T', 'A', 'G', 'C'], ['T', 'T', 'C', 'C'], ['G', 'T', 'C', 'C'], ['C', 'T', 'T', 'A'], ['T', 'A', 'G', 'C'], ['C', 'T', 'G', 'C'], ['C', 'A', 'T', 'A'], ['T', 'T', 'C', 'T'], ['T', 'G', 'C', 'G'], ['G', 'T', 'A', 'G'], ['C', 'A', 'C', 'G'], ['A', 'G', 'C', 'C'], ['T', 'C', 'A', 'G'], ['A', 'T', 'C', 'T'], ['T', 'C', 'T', 'C'], ['A', 'C', 'T', 'C'], ['C', 'G', 'G', 'A'], ['A', 'A', 'T', 'G'], ['G', 'G', 'A', 'G'], ['C', 'T', 'T', 'C'], ['G', 'A', 'C', 'G'], ['G', 'T', 'C', 'A'], ['A', 'G', 'G', 'G'], ['C', 'T', 'A', 'A'], ['G', 'A', 'C', 'G'], ['T', 'C', 'T', 'T'], ['C', 'G', 'G', 'G'], ['A', 'G', 'A', 'A'], ['A', 'T', 'A', 'C'], ['C', 'T', 'A', 'G'], ['G', 'C', 'G', 'A'], ['T', 'G', 'A', 'C'], ['C', 'C', 'T', 'G'], ['A', 'G', 'T', 'G'], ['G', 'T', 'T', 'T'], ['T', 'C', 'C', 'G'], ['C', 'G', 'T', 'A'], ['T', 'A', 'A', 'C'], ['T', 'C', 'A', 'T'], ['C', 'C', 'T', 'G'], ['G', 'T', 'T', 'G'], ['C', 'A', 'A', 'A'], ['T', 'G', 'A', 'T'], ['T', 'A', 'C', 'C'], ['G', 'T', 'T', 'A'], ['T', 'A', 'G', 'C'], ['C', 'T', 'G', 'G'], ['G', 'G', 'A', 'T'], ['A', 'T', 'G', 'C'], ['C', 'T', 'C', 'A'], ['A', 'T', 'T', 'C'], ['C', 'G', 'A', 'A'], ['C', 'C', 'C', 'A'], ['G', 'G', 'A', 'G'], ['C', 'A', 'T', 'C'], ['A', 'C', 'T', 'C'], ['G', 'A', 'G', 'C'], ['A', 'A', 'T', 'A'], ['G', 'C', 'G', 'G'], ['T', 'A', 'A', 'A'], ['G', 'G', 'A', 'G'], ['G', 'C', 'T', 'A'], ['T', 'T', 'A', 'G'], ['C', 'A', 'A', 'A'], ['A', 'T', 'T', 'G'], ['T', 'C', 'A', 'C'], ['G', 'A', 'T', 'A'], ['A', 'G', 'C', 'G'], ['C', 'C', 'G', 'T'], ['T', 'G', 'T', 'A'], ['G', 'T', 'G', 'A'], ['A', 'A', 'T', 'T'], ['A', 'A', 'G', 'A'], ['T', 'A', 'C', 'A'], ['T', 'A', 'C', 'A'], ['T', 'C', 'G', 'T'], ['T', 'T', 'A', 'G'], ['C', 'A', 'C', 'A'], ['T', 'C', 'A', 'C'], ['T', 'C', 'T', 'C'], ['A', 'C', 'G', 'G'], ['C', 'G', 'T', 'C'], ['T', 'A', 'G', 'A'], ['A', 'G', 'C', 'T'], ['G', 'A', 'T', 'C'], ['T', 'T', 'C', 'A'], ['T', 'A', 'T', 'G'], ['C', 'T', 'G', 'A'], ['C', 'T', 'C', 'A'], ['G', 'A', 'A', 'G'], ['G', 'C', 'T', 'C'], ['G', 'G', 'A', 'T'], ['A', 'A', 'T', 'A'], ['G', 'A', 'G', 'G'], ['A', 'C', 'G', 'A'], ['A', 'G', 'G', 'T'], ['A', 'G', 'T', 'T'], ['T', 'A', 'C', 'T'], ['C', 'A', 'T', 'C'], ['G', 'C', 'T', 'G'], ['C', 'C', 'C', 'C'], ['G', 'A', 'C', 'T'], ['A', 'T', 'T', 'A'], ['C', 'G', 'T', 'G'], ['T', 'G', 'C', 'A'], ['T', 'G', 'A', 'T'], ['A', 'A', 'A', 'G'], ['T', 'C', 'T', 'G'], ['A', 'C', 'C', 'C'], ['T', 'G', 'A', 'C'], ['G', 'T', 'T', 'C'], ['C', 'C', 'A', 'A'], ['G', 'C', 'C', 'G'], ['A', 'G', 'G', 'C'], ['A', 'G', 'A', 'G'], ['G', 'G', 'G', 'T'], ['T', 'T', 'T', 'A'], ['C', 'G', 'C', 'T'], ['G', 'A', 'A', 'T'], ['G', 'T', 'C', 'C'], ['G', 'C', 'T', 'C'], ['T', 'C', 'T', 'G'], ['T', 'C', 'G', 'G'], ['A', 'T', 'G', 'A'], ['T', 'T', 'T', 'C'], ['G', 'G', 'A', 'A'], ['G', 'C', 'T', 'G']]\n"
     ]
    }
   ],
   "source": [
    "dna_subset = []\n",
    "\n",
    "for i in range(0, len(dna_list), 4):\n",
    "    dna_subset.append( dna_list[i:i+4])\n",
    "\n",
    "print(dna_subset)\n",
    "               \n",
    "               "
   ]
  },
  {
   "cell_type": "code",
   "execution_count": null,
   "id": "9dce8701",
   "metadata": {},
   "outputs": [],
   "source": []
  }
 ],
 "metadata": {
  "kernelspec": {
   "display_name": "Python 3 (ipykernel)",
   "language": "python",
   "name": "python3"
  },
  "language_info": {
   "codemirror_mode": {
    "name": "ipython",
    "version": 3
   },
   "file_extension": ".py",
   "mimetype": "text/x-python",
   "name": "python",
   "nbconvert_exporter": "python",
   "pygments_lexer": "ipython3",
   "version": "3.10.8"
  },
  "toc": {
   "base_numbering": 1,
   "nav_menu": {},
   "number_sections": true,
   "sideBar": true,
   "skip_h1_title": false,
   "title_cell": "Table of Contents",
   "title_sidebar": "Contents",
   "toc_cell": false,
   "toc_position": {},
   "toc_section_display": true,
   "toc_window_display": false
  },
  "varInspector": {
   "cols": {
    "lenName": 16,
    "lenType": 16,
    "lenVar": 40
   },
   "kernels_config": {
    "python": {
     "delete_cmd_postfix": "",
     "delete_cmd_prefix": "del ",
     "library": "var_list.py",
     "varRefreshCmd": "print(var_dic_list())"
    },
    "r": {
     "delete_cmd_postfix": ") ",
     "delete_cmd_prefix": "rm(",
     "library": "var_list.r",
     "varRefreshCmd": "cat(var_dic_list()) "
    }
   },
   "types_to_exclude": [
    "module",
    "function",
    "builtin_function_or_method",
    "instance",
    "_Feature"
   ],
   "window_display": false
  },
  "vscode": {
   "interpreter": {
    "hash": "31f2aee4e71d21fbe5cf8b01ff0e069b9275f58929596ceb00d14d90e3e16cd6"
   }
  }
 },
 "nbformat": 4,
 "nbformat_minor": 5
}
